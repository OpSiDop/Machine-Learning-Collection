{
 "cells": [
  {
   "cell_type": "code",
   "execution_count": 3,
   "id": "3e903d11",
   "metadata": {},
   "outputs": [],
   "source": [
    "#importing libs\n",
    "import numpy as np\n",
    "import pandas as pd\n",
    "import matplotlib.pyplot as plt"
   ]
  },
  {
   "cell_type": "code",
   "execution_count": 5,
   "id": "065ad21f",
   "metadata": {},
   "outputs": [],
   "source": [
    "#importing data to notebook\n",
    "d= pd.read_csv(\"L:/train.csv\")"
   ]
  },
  {
   "cell_type": "code",
   "execution_count": 6,
   "id": "0f10b84e",
   "metadata": {},
   "outputs": [
    {
     "data": {
      "text/html": [
       "<div>\n",
       "<style scoped>\n",
       "    .dataframe tbody tr th:only-of-type {\n",
       "        vertical-align: middle;\n",
       "    }\n",
       "\n",
       "    .dataframe tbody tr th {\n",
       "        vertical-align: top;\n",
       "    }\n",
       "\n",
       "    .dataframe thead th {\n",
       "        text-align: right;\n",
       "    }\n",
       "</style>\n",
       "<table border=\"1\" class=\"dataframe\">\n",
       "  <thead>\n",
       "    <tr style=\"text-align: right;\">\n",
       "      <th></th>\n",
       "      <th>x</th>\n",
       "      <th>y</th>\n",
       "    </tr>\n",
       "  </thead>\n",
       "  <tbody>\n",
       "    <tr>\n",
       "      <th>0</th>\n",
       "      <td>24.0</td>\n",
       "      <td>21.549452</td>\n",
       "    </tr>\n",
       "    <tr>\n",
       "      <th>1</th>\n",
       "      <td>50.0</td>\n",
       "      <td>47.464463</td>\n",
       "    </tr>\n",
       "    <tr>\n",
       "      <th>2</th>\n",
       "      <td>15.0</td>\n",
       "      <td>17.218656</td>\n",
       "    </tr>\n",
       "    <tr>\n",
       "      <th>3</th>\n",
       "      <td>38.0</td>\n",
       "      <td>36.586398</td>\n",
       "    </tr>\n",
       "    <tr>\n",
       "      <th>4</th>\n",
       "      <td>87.0</td>\n",
       "      <td>87.288984</td>\n",
       "    </tr>\n",
       "    <tr>\n",
       "      <th>5</th>\n",
       "      <td>36.0</td>\n",
       "      <td>32.463875</td>\n",
       "    </tr>\n",
       "    <tr>\n",
       "      <th>6</th>\n",
       "      <td>12.0</td>\n",
       "      <td>10.780897</td>\n",
       "    </tr>\n",
       "    <tr>\n",
       "      <th>7</th>\n",
       "      <td>81.0</td>\n",
       "      <td>80.763399</td>\n",
       "    </tr>\n",
       "    <tr>\n",
       "      <th>8</th>\n",
       "      <td>25.0</td>\n",
       "      <td>24.612151</td>\n",
       "    </tr>\n",
       "    <tr>\n",
       "      <th>9</th>\n",
       "      <td>5.0</td>\n",
       "      <td>6.963319</td>\n",
       "    </tr>\n",
       "  </tbody>\n",
       "</table>\n",
       "</div>"
      ],
      "text/plain": [
       "      x          y\n",
       "0  24.0  21.549452\n",
       "1  50.0  47.464463\n",
       "2  15.0  17.218656\n",
       "3  38.0  36.586398\n",
       "4  87.0  87.288984\n",
       "5  36.0  32.463875\n",
       "6  12.0  10.780897\n",
       "7  81.0  80.763399\n",
       "8  25.0  24.612151\n",
       "9   5.0   6.963319"
      ]
     },
     "execution_count": 6,
     "metadata": {},
     "output_type": "execute_result"
    }
   ],
   "source": [
    "d.head(10)"
   ]
  },
  {
   "cell_type": "code",
   "execution_count": 7,
   "id": "2af2f56a",
   "metadata": {},
   "outputs": [
    {
     "name": "stdout",
     "output_type": "stream",
     "text": [
      "<class 'pandas.core.frame.DataFrame'>\n",
      "RangeIndex: 700 entries, 0 to 699\n",
      "Data columns (total 2 columns):\n",
      " #   Column  Non-Null Count  Dtype  \n",
      "---  ------  --------------  -----  \n",
      " 0   x       700 non-null    float64\n",
      " 1   y       699 non-null    float64\n",
      "dtypes: float64(2)\n",
      "memory usage: 11.1 KB\n"
     ]
    }
   ],
   "source": [
    "d.info()"
   ]
  },
  {
   "cell_type": "code",
   "execution_count": 8,
   "id": "4fdcfde4",
   "metadata": {},
   "outputs": [],
   "source": [
    "d= d.dropna()"
   ]
  },
  {
   "cell_type": "code",
   "execution_count": 9,
   "id": "721bace4",
   "metadata": {},
   "outputs": [
    {
     "data": {
      "text/plain": [
       "(699, 2)"
      ]
     },
     "execution_count": 9,
     "metadata": {},
     "output_type": "execute_result"
    }
   ],
   "source": [
    "d.shape"
   ]
  },
  {
   "cell_type": "code",
   "execution_count": 18,
   "id": "a693a65e",
   "metadata": {},
   "outputs": [],
   "source": [
    "#Splitting train Data \n",
    "traini = np.array(d.x[0:500]).reshape(500,1)\n",
    "traino = np.array(d.y[0:500]).reshape(500,1)"
   ]
  },
  {
   "cell_type": "code",
   "execution_count": 20,
   "id": "44eac590",
   "metadata": {},
   "outputs": [],
   "source": [
    "#splitting test data\n",
    "testi = np.array(d.x[500:700]).reshape(199,1)\n",
    "testo = np.array(d.y[500:700]).reshape(199,1)"
   ]
  },
  {
   "cell_type": "code",
   "execution_count": 23,
   "id": "f0b80847",
   "metadata": {},
   "outputs": [
    {
     "data": {
      "text/plain": [
       "LinearRegression()"
      ]
     },
     "execution_count": 23,
     "metadata": {},
     "output_type": "execute_result"
    }
   ],
   "source": [
    "#importing sklearn linear regression library and training\n",
    "from sklearn.linear_model import LinearRegression\n",
    "l = LinearRegression()\n",
    "l.fit(traini,traino)"
   ]
  },
  {
   "cell_type": "code",
   "execution_count": 24,
   "id": "d78a7cea",
   "metadata": {},
   "outputs": [],
   "source": [
    "#predicting\n",
    "pdict=l.predict(testi)"
   ]
  },
  {
   "cell_type": "code",
   "execution_count": 25,
   "id": "3dc0c6ea",
   "metadata": {},
   "outputs": [],
   "source": [
    "#importing metrics library and accuracy of model\n",
    "from sklearn.metrics import mean_squared_error\n",
    "error = mean_squared_error(testo,pdict)"
   ]
  },
  {
   "cell_type": "code",
   "execution_count": 26,
   "id": "3c7ab567",
   "metadata": {},
   "outputs": [
    {
     "data": {
      "text/plain": [
       "8.030031591835371"
      ]
     },
     "execution_count": 26,
     "metadata": {},
     "output_type": "execute_result"
    }
   ],
   "source": [
    "error"
   ]
  },
  {
   "cell_type": "code",
   "execution_count": 27,
   "id": "65802b47",
   "metadata": {},
   "outputs": [
    {
     "data": {
      "image/png": "[encoded data removed]",
      "text/plain": [
       "<Figure size 432x288 with 1 Axes>"
      ]
     },
     "metadata": {
      "needs_background": "light"
     },
     "output_type": "display_data"
    }
   ],
   "source": [
    "# Visualising model\n",
    "plt.plot(testi,testo,\"+\",color=\"green\")\n",
    "plt.plot(testi,pdict,\"*\",color=\"red\")\n",
    "plt.xlabel('input')\n",
    "plt.ylabel(\"output\")\n",
    "plt.show()"
   ]
  },
  {
   "cell_type": "code",
   "execution_count": null,
   "id": "dc4f9a7c",
   "metadata": {},
   "outputs": [],
   "source": []
  }
 ],
 "metadata": {
  "kernelspec": {
   "display_name": "Python 3",
   "language": "python",
   "name": "python3"
  },
  "language_info": {
   "codemirror_mode": {
    "name": "ipython",
    "version": 3
   },
   "file_extension": ".py",
   "mimetype": "text/x-python",
   "name": "python",
   "nbconvert_exporter": "python",
   "pygments_lexer": "ipython3",
   "version": "3.8.8"
  }
 },
 "nbformat": 4,
 "nbformat_minor": 5
}
